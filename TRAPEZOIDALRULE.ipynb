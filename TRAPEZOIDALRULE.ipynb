{
 "cells": [
  {
   "cell_type": "code",
   "execution_count": 18,
   "metadata": {},
   "outputs": [],
   "source": [
    "from numpy import *\n",
    "from sympy import *\n",
    "from sympy.abc import r\n",
    "\n",
    "#Lets define the Trapezoidal Rule constants in the formula to be used here.\n",
    "A =0      ####initial coordinate value\n",
    "B=3       ####Final coordinate value\n",
    "N=50       #Number of rectangles, note that the higher the value of N, the more accurate the final answer\n",
    "h = (B-A)/(N-1) #width of each rectangle\n",
    "\n",
    "#####Lets begin with a function that calls the function f(x) to be integrated\n",
    "\n",
    "def f(x):\n",
    "    f = x*x\n",
    "    #print('The below is a print out of all the values\\n\\n')\n",
    "    print('x f(x) =',x,x*x)\n",
    "    return (f)\n",
    "##########################################################No need to change this part of the code-start"
   ]
  },
  {
   "cell_type": "code",
   "execution_count": 19,
   "metadata": {},
   "outputs": [],
   "source": [
    "def Trap_ih(i,h):\n",
    "    if ((i ==1) or (i==N)):\n",
    "        width =h/2\n",
    "        return (width)\n",
    "    else:\n",
    "        width =h\n",
    "        return (width)"
   ]
  },
  {
   "cell_type": "code",
   "execution_count": 20,
   "metadata": {},
   "outputs": [
    {
     "name": "stdout",
     "output_type": "stream",
     "text": [
      "x f(x) = 0.0 0.0\n",
      "x f(x) = 0.061224489795918366 0.003748438150770512\n",
      "x f(x) = 0.12244897959183673 0.014993752603082049\n",
      "x f(x) = 0.18367346938775508 0.033735943356934604\n",
      "x f(x) = 0.24489795918367346 0.059975010412328195\n",
      "x f(x) = 0.30612244897959184 0.0937109537692628\n",
      "x f(x) = 0.36734693877551017 0.13494377342773842\n",
      "x f(x) = 0.42857142857142855 0.18367346938775508\n",
      "x f(x) = 0.4897959183673469 0.23990004164931278\n",
      "x f(x) = 0.5510204081632653 0.3036234902124114\n",
      "x f(x) = 0.6122448979591837 0.3748438150770512\n",
      "x f(x) = 0.673469387755102 0.453561016243232\n",
      "x f(x) = 0.7346938775510203 0.5397750937109537\n",
      "x f(x) = 0.7959183673469388 0.6334860474802165\n",
      "x f(x) = 0.8571428571428571 0.7346938775510203\n",
      "x f(x) = 0.9183673469387755 0.8433985839233653\n",
      "x f(x) = 0.9795918367346939 0.9596001665972511\n",
      "x f(x) = 1.0408163265306123 1.0832986255726782\n",
      "x f(x) = 1.1020408163265305 1.2144939608496457\n",
      "x f(x) = 1.163265306122449 1.3531861724281549\n",
      "x f(x) = 1.2244897959183674 1.499375260308205\n",
      "x f(x) = 1.2857142857142856 1.6530612244897955\n",
      "x f(x) = 1.346938775510204 1.814244064972928\n",
      "x f(x) = 1.4081632653061225 1.982923781757601\n",
      "x f(x) = 1.4693877551020407 2.1591003748438147\n",
      "x f(x) = 1.530612244897959 2.3427738442315698\n",
      "x f(x) = 1.5918367346938775 2.533944189920866\n",
      "x f(x) = 1.653061224489796 2.7326114119117038\n",
      "x f(x) = 1.7142857142857142 2.9387755102040813\n",
      "x f(x) = 1.7755102040816326 3.1524364847980006\n",
      "x f(x) = 1.836734693877551 3.3735943356934612\n",
      "x f(x) = 1.8979591836734693 3.6022490628904618\n",
      "x f(x) = 1.9591836734693877 3.8384006663890045\n",
      "x f(x) = 2.020408163265306 4.082049146189087\n",
      "x f(x) = 2.0816326530612246 4.333194502290713\n",
      "x f(x) = 2.142857142857143 4.591836734693877\n",
      "x f(x) = 2.204081632653061 4.857975843398583\n",
      "x f(x) = 2.2653061224489797 5.131611828404831\n",
      "x f(x) = 2.326530612244898 5.4127446897126195\n",
      "x f(x) = 2.387755102040816 5.701374427321948\n",
      "x f(x) = 2.4489795918367347 5.99750104123282\n",
      "x f(x) = 2.510204081632653 6.301124531445231\n",
      "x f(x) = 2.571428571428571 6.612244897959182\n",
      "x f(x) = 2.63265306122449 6.9308621407746775\n",
      "x f(x) = 2.693877551020408 7.256976259891712\n",
      "x f(x) = 2.7551020408163263 7.590587255310286\n",
      "x f(x) = 2.816326530612245 7.931695127030404\n",
      "x f(x) = 2.877551020408163 8.28029987505206\n",
      "x f(x) = 2.9387755102040813 8.636401499375259\n",
      "x f(x) = 3.0 9.0\n",
      "\n",
      "Total Area = 9.00187421907538\n"
     ]
    }
   ],
   "source": [
    "##Initialising the Area\n",
    "SUM_A = 0.0\n",
    "\n",
    "###Loop for calculating the x coordinates(x0,x1,x2,x3,x4......xN)\n",
    "for i in range(1,N+1):\n",
    "    t = A+ (i-1)*h\n",
    "    #print(t)\n",
    "    #print(f(t))\n",
    "    w = Trap_ih(i,h)\n",
    "    #print(w)\n",
    "    SUM_A = SUM_A + w*f(t)  #This line calculates the total sum of the area by Trapezoidal Rule\n",
    "print('\\nTotal Area =',SUM_A)"
   ]
  },
  {
   "cell_type": "code",
   "execution_count": 21,
   "metadata": {},
   "outputs": [
    {
     "name": "stdout",
     "output_type": "stream",
     "text": [
      "\n",
      "The exact area by integration of a function is = 9.00000000000000\n",
      "\n",
      "The error made by integrating a fuction using... \n",
      "Trapezoidal rule of 50 rectangles and exact solution is = 0.00187421907538088\n",
      "\n"
     ]
    }
   ],
   "source": [
    "##########################################################No need to change this part of the code-end\n",
    "\n",
    "#####################Finding exact integral and compare\n",
    "\n",
    "F = Integral(r**2,(r,0,3))\n",
    "F.as_sum(4,method ='midpoint')\n",
    "A_ex = F.n()\n",
    "print('\\nThe exact area by integration of a function is =',A_ex)\n",
    "\n",
    "DeltaA = abs(A_ex-SUM_A)\n",
    "print('\\nThe error made by integrating a fuction using... \\nTrapezoidal rule of {} rectangles and exact solution is = {}\\n'.format(N,DeltaA))\n"
   ]
  },
  {
   "cell_type": "code",
   "execution_count": null,
   "metadata": {},
   "outputs": [],
   "source": []
  }
 ],
 "metadata": {
  "kernelspec": {
   "display_name": "Python 3",
   "language": "python",
   "name": "python3"
  },
  "language_info": {
   "codemirror_mode": {
    "name": "ipython",
    "version": 3
   },
   "file_extension": ".py",
   "mimetype": "text/x-python",
   "name": "python",
   "nbconvert_exporter": "python",
   "pygments_lexer": "ipython3",
   "version": "3.6.5"
  }
 },
 "nbformat": 4,
 "nbformat_minor": 2
}
