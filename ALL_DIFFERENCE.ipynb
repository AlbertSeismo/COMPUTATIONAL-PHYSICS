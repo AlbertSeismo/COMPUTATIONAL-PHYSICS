from matplotlib.pyplot import *
from sympy import *
from sympy.abc import x,y
from numpy import *
from pylab import *
from matplotlib import rcParams

##pat that handles the figure size and font
#rcParams['font.family'] = 'DejaVu Sans'
rcParams['font.size'] = '13'
fig, ax = plt.subplots(figsize=(12, 6))

##end

dx = 0.05
x = linspace(0,10,1000)

##Original function
t= x*exp(x)
#subplot(3,1,1)
#plot(x,t,'m-')

##exact derivative
#y_e = diff(t)
y_e = (x+1)*exp(x)
#subplot(3,1,2)
#plot(x[0:999],y_e[0:999],'b-.',x,y_f)


##Forward difference approximation
y_f = (((x+dx)*exp(x+dx))-(x*exp(x)))/dx   #FORWARD DIFFERENCE
y_c = (((x+dx)*exp(x+dx))-((x-dx)*exp(x-dx)))/(2*dx) #CENTRAL DIFFERENCE
y_b = ((x*exp(x))-((x-dx)*exp(x-dx)))/dx      #BACKWARD DIFFERENCE
#subplot(3,1,3)
#plot(x,y_f,'r-.')

plot(x[0:999],y_f[0:999],'g',x[0:999],y_e[0:999],'b-.',x[0:999],y_c[0:999],'m',x[0:999],y_b[0:999],'r')
#legend((t,y_e,y_f),('Original','Exact derivative','Forward difference'))
grid (True)
title('Agraph showing the original, exact derivative and forward_difference functions')
xlabel('X')
ylabel('Y')
show()
